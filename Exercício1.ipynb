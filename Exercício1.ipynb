{
  "nbformat": 4,
  "nbformat_minor": 0,
  "metadata": {
    "colab": {
      "provenance": []
    },
    "kernelspec": {
      "name": "python3",
      "display_name": "Python 3"
    },
    "language_info": {
      "name": "python"
    }
  },
  "cells": [
    {
      "cell_type": "code",
      "execution_count": null,
      "metadata": {
        "colab": {
          "base_uri": "https://localhost:8080/"
        },
        "id": "p6n95ISS8XFe",
        "outputId": "fa4f0852-0826-42ea-ceae-2712a59c4834"
      },
      "outputs": [
        {
          "output_type": "stream",
          "name": "stdout",
          "text": [
            "Quantos quilos de peixe?80\n",
            "A quantidade excedida foi de: 30.0 e o valor de multa será: R$ 120.0\n"
          ]
        }
      ],
      "source": [
        "kg = 50\n",
        "multa_por_peso = 4.00\n",
        "peso = float(input('Quantos quilos de peixe?'))\n",
        "\n",
        "if peso > kg:\n",
        "  excesso = peso - kg\n",
        "  multa = excesso * multa_por_peso\n",
        "  print('A quantidade excedida foi de:', excesso, 'e o valor de multa será: R$', multa)\n",
        "else:\n",
        "  print('A quantidade não foi excedida')"
      ]
    },
    {
      "cell_type": "code",
      "source": [
        "#1l para 6 m2\n",
        "#tinha é vendida em latas de 18l - R$ 80\n",
        "#galão 3,6 litros - R$25\n",
        "galao = 6 * 3.6\n",
        "lata = 6 * 18\n",
        "print(galao, lata)\n",
        "metros = int(input('Informe o tamanho em metros da área a ser pintada:'))\n",
        "\n"
      ],
      "metadata": {
        "colab": {
          "base_uri": "https://localhost:8080/"
        },
        "id": "0OQ3K_St-DuC",
        "outputId": "7d2a9a99-7cd6-46b2-e5f8-71a24b7d6eab"
      },
      "execution_count": null,
      "outputs": [
        {
          "name": "stdout",
          "output_type": "stream",
          "text": [
            "21.6 108\n",
            "Informe o tamanho em metros da área a ser pintada:10\n"
          ]
        }
      ]
    },
    {
      "cell_type": "code",
      "source": [],
      "metadata": {
        "id": "hfExGhB--poU"
      },
      "execution_count": null,
      "outputs": []
    }
  ]
}