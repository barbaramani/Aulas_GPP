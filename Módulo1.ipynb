{
  "nbformat": 4,
  "nbformat_minor": 0,
  "metadata": {
    "colab": {
      "provenance": []
    },
    "kernelspec": {
      "name": "python3",
      "display_name": "Python 3"
    },
    "language_info": {
      "name": "python"
    }
  },
  "cells": [
    {
      "cell_type": "code",
      "execution_count": null,
      "metadata": {
        "id": "3fyS5JOb0Ovu"
      },
      "outputs": [],
      "source": [
        "dados_clientes = {\n",
        "    'Nome':'Barbara',\n",
        "    'Enderço':'Rua Elizeu Di Bernardi',\n",
        "    'Telefone':'4899999999'\n",
        "}"
      ]
    },
    {
      "cell_type": "code",
      "source": [
        "nome = dados_clientes['Nome']\n",
        "print(nome)"
      ],
      "metadata": {
        "colab": {
          "base_uri": "https://localhost:8080/"
        },
        "id": "H0ixGcVg11o-",
        "outputId": "09b44fdd-928f-46f9-9973-8b62d626121d"
      },
      "execution_count": null,
      "outputs": [
        {
          "output_type": "stream",
          "name": "stdout",
          "text": [
            "Barbara\n"
          ]
        }
      ]
    },
    {
      "cell_type": "markdown",
      "source": [
        "Adicionar "
      ],
      "metadata": {
        "id": "FMk2OBwu1qqM"
      }
    },
    {
      "cell_type": "code",
      "source": [
        "dados_clientes['Estado'] = 'SC'"
      ],
      "metadata": {
        "id": "h4lfMsNF1oVR"
      },
      "execution_count": null,
      "outputs": []
    },
    {
      "cell_type": "code",
      "source": [
        "dados_clientes"
      ],
      "metadata": {
        "colab": {
          "base_uri": "https://localhost:8080/"
        },
        "id": "PNBtWdH_2ERG",
        "outputId": "3a9c7fc6-3c60-4369-a47c-f3c82f277254"
      },
      "execution_count": null,
      "outputs": [
        {
          "output_type": "execute_result",
          "data": {
            "text/plain": [
              "{'Nome': 'Barbara',\n",
              " 'Enderço': 'Rua Elizeu Di Bernardi',\n",
              " 'Telefone': '4899999999',\n",
              " 'Estado': 'SC'}"
            ]
          },
          "metadata": {},
          "execution_count": 4
        }
      ]
    },
    {
      "cell_type": "markdown",
      "source": [
        "Excluir"
      ],
      "metadata": {
        "id": "BDa-NqLu2Gkn"
      }
    },
    {
      "cell_type": "code",
      "source": [
        "del dados_clientes['Estado']"
      ],
      "metadata": {
        "id": "MNZ2BCBd2GWK"
      },
      "execution_count": null,
      "outputs": []
    },
    {
      "cell_type": "code",
      "source": [
        "dados_clientes\n"
      ],
      "metadata": {
        "colab": {
          "base_uri": "https://localhost:8080/"
        },
        "id": "xXqtK_Gh2NfR",
        "outputId": "87a9a089-1592-4e58-e9c7-8c2291ec98ff"
      },
      "execution_count": null,
      "outputs": [
        {
          "output_type": "execute_result",
          "data": {
            "text/plain": [
              "{'Nome': 'Barbara',\n",
              " 'Enderço': 'Rua Elizeu Di Bernardi',\n",
              " 'Telefone': '4899999999'}"
            ]
          },
          "metadata": {},
          "execution_count": 6
        }
      ]
    },
    {
      "cell_type": "markdown",
      "source": [
        "CONDICIONAIS"
      ],
      "metadata": {
        "id": "Z9TJnd-63Bmj"
      }
    },
    {
      "cell_type": "code",
      "source": [
        "animals = ['lion','dog','cat']\n",
        "if animals[0] !='lion':\n",
        "  animals.append('fish')\n",
        "elif animals[1] == 'dog':\n",
        "  animals.append ('bird')\n",
        "else:\n",
        "  animals.append('tiger')\n",
        "\n",
        "print(animals)"
      ],
      "metadata": {
        "colab": {
          "base_uri": "https://localhost:8080/"
        },
        "id": "pDLmlbfM3BCF",
        "outputId": "58bb5270-f64c-4267-9a27-74d631254a62"
      },
      "execution_count": null,
      "outputs": [
        {
          "output_type": "stream",
          "name": "stdout",
          "text": [
            "['lion', 'dog', 'cat', 'bird']\n"
          ]
        }
      ]
    },
    {
      "cell_type": "markdown",
      "source": [
        "ESTRUTURA DE REPETIÇÕES"
      ],
      "metadata": {
        "id": "DLzqShHQ372O"
      }
    },
    {
      "cell_type": "code",
      "source": [
        "#loops usando for\n",
        "\n",
        "numbers = [1,2,3,4,5]\n",
        "for number in numbers:\n",
        "  print(number)"
      ],
      "metadata": {
        "colab": {
          "base_uri": "https://localhost:8080/"
        },
        "id": "gp-97Nmj4BKG",
        "outputId": "05fb8e66-fb50-42cd-b086-35c0684a393b"
      },
      "execution_count": null,
      "outputs": [
        {
          "output_type": "stream",
          "name": "stdout",
          "text": [
            "1\n",
            "2\n",
            "3\n",
            "4\n",
            "5\n"
          ]
        }
      ]
    },
    {
      "cell_type": "code",
      "source": [
        "pessoas = [({'nome':'Barbara','cidade':'RJ'}), ({'nome':'George','cidade':'Fpolis'}), ({'nome':'Gene','cidade':'BA'})]\n",
        "contador = 0\n",
        "\n",
        "for p in pessoas:\n",
        "  print(p)"
      ],
      "metadata": {
        "colab": {
          "base_uri": "https://localhost:8080/"
        },
        "id": "xjWdOjg14pd0",
        "outputId": "df89ea06-8515-452e-f05a-2f65bbf6b692"
      },
      "execution_count": null,
      "outputs": [
        {
          "output_type": "stream",
          "name": "stdout",
          "text": [
            "{'nome': 'Barbara', 'cidade': 'RJ'}\n",
            "{'nome': 'George', 'cidade': 'Fpolis'}\n",
            "{'nome': 'Gene', 'cidade': 'BA'}\n"
          ]
        }
      ]
    },
    {
      "cell_type": "code",
      "source": [
        "pessoas = [({'nome':'Barbara','cidade':'RJ'}), ({'nome':'George','cidade':'Fpolis'}), ({'nome':'Gene','cidade':'BA'})]\n",
        "contador = 0\n",
        "\n",
        "for p in pessoas:\n",
        "  contador +=1\n",
        "  print(contador)\n",
        "  if p['nome']=='George':\n",
        "    print(p['nome'], 'mora em',p['cidade'])\n",
        "    break"
      ],
      "metadata": {
        "colab": {
          "base_uri": "https://localhost:8080/"
        },
        "id": "jKdNv17M55Q9",
        "outputId": "8249e7ab-1970-4f72-b7ce-9fb402451070"
      },
      "execution_count": null,
      "outputs": [
        {
          "output_type": "stream",
          "name": "stdout",
          "text": [
            "1\n",
            "2\n",
            "George mora em Fpolis\n"
          ]
        }
      ]
    },
    {
      "cell_type": "markdown",
      "source": [
        "FUNÇÕES"
      ],
      "metadata": {
        "id": "n1LpDY2j6_Hg"
      }
    },
    {
      "cell_type": "code",
      "source": [
        "def calcular_pagamento(qtd_horas,valor_hora):\n",
        "  if qtd_horas < 40:\n",
        "    salario = qtd_horas * valor_hora\n",
        "  else:\n",
        "    qtd_horas_exc = qtd_horas - 40\n",
        "    salario = 40 * valor_hora + (qtd_horas_exc * (1.5 *valor_hora))\n",
        "  return salario\n"
      ],
      "metadata": {
        "id": "4hf1xhDQ7Ayb"
      },
      "execution_count": null,
      "outputs": []
    },
    {
      "cell_type": "code",
      "source": [
        "horas_trabalhadas = 45\n",
        "valor = 100\n",
        "total_salario = calcular_pagamento(horas_trabalhadas,valor)\n",
        "print(total_salario)"
      ],
      "metadata": {
        "colab": {
          "base_uri": "https://localhost:8080/"
        },
        "id": "N5I2Jay_7jRE",
        "outputId": "457aa687-db12-43bc-aded-d5a1563b932d"
      },
      "execution_count": null,
      "outputs": [
        {
          "output_type": "stream",
          "name": "stdout",
          "text": [
            "4750.0\n"
          ]
        }
      ]
    }
  ]
}